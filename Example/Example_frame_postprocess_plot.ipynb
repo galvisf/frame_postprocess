{
 "cells": [
  {
   "cell_type": "code",
   "execution_count": 1,
   "metadata": {},
   "outputs": [],
   "source": [
    "from frame_postprocess import *\n",
    "\n",
    "set_plot_formatting()\n",
    "color_specs = ['tab:red','tab:green','tab:orange','tab:purple','tab:olive'] #\n",
    "# color_specs = [(56/255, 95/255, 150/255), (207/255, 89/255, 33/255), (231/255, 184/255, 0/255), (158/255, 184/255, 219/255),\n",
    "#                (128/255, 0/255, 0/255)]"
   ]
  },
  {
   "cell_type": "markdown",
   "metadata": {},
   "source": [
    "# GENERAL INPUTS"
   ]
  },
  {
   "cell_type": "markdown",
   "metadata": {},
   "source": [
    "Building geometry and relevant properties"
   ]
  },
  {
   "cell_type": "code",
   "execution_count": 3,
   "metadata": {},
   "outputs": [],
   "source": [
    "############### Bldg ###############\n",
    "bldg_name = 'Example_Bldg1'\n",
    "only_collapses = False\n",
    "rp_plot = '975'   # stripe to plot response\n",
    "gm_tag = 5 # gm tag to plot\n",
    "####################################\n",
    "\n",
    "## Locate inputs and results folder ##\n",
    "raw_folder_name = '1_Raw_NLRHA_results'\n",
    "EDP_folder_name = '2_Collected_NLRHA_results'\n",
    "bldg_info = pd.read_csv(os.path.join(raw_folder_name, 'building_info_for_plot.csv'))\n",
    "\n",
    "## Retrieve inputs for plots ##\n",
    "case_i = np.argwhere(bldg_info['OBJECTID'].to_numpy() == int(bldg_name[-1]))[0][0]\n",
    "splice        = bldg_info['splice'].iloc[case_i]\n",
    "\n",
    "story_heights = np.array(eval(bldg_info['storyHeight'].iloc[case_i]))\n",
    "n_stories = len(story_heights)\n",
    "beam_list   = np.array(eval(bldg_info['beam_list'].iloc[case_i]))\n",
    "column_list = np.array(eval(bldg_info['column_list'].iloc[case_i]))\n",
    "bay_widths  = np.array(eval(bldg_info['bayWidth'].iloc[case_i]))\n",
    "n_bays      = len(bay_widths) "
   ]
  },
  {
   "cell_type": "code",
   "execution_count": 5,
   "metadata": {},
   "outputs": [],
   "source": [
    "# results folder name\n",
    "results_filename  = os.path.join(EDP_folder_name, bldg_name + '.h5')"
   ]
  },
  {
   "cell_type": "markdown",
   "metadata": {},
   "source": [
    "## PLOT FRAME RESPONSE IN ELEVATION"
   ]
  },
  {
   "cell_type": "code",
   "execution_count": 6,
   "metadata": {},
   "outputs": [],
   "source": [
    "############ INPUTS ################\n",
    "marker_size = 50 # size marker for fractures\n",
    "t           = 0 # time step to plot if results include all time history\n",
    "plot_scale  = 10\n",
    "####################################"
   ]
  },
  {
   "cell_type": "code",
   "execution_count": 7,
   "metadata": {},
   "outputs": [],
   "source": [
    "# element coordinates\n",
    "n_stories, n_bays, columns, beams, joints_x, joints_y = get_coordinates(beam_list, column_list, bay_widths, story_heights)\n",
    "\n",
    "# Define plotting function\n",
    "def plot_end_state(column_response, pz_response, beam_response, title_text, title_color='k'):    \n",
    "                          \n",
    "    # Displacement table\n",
    "    edp = pz_response['all_disp']\n",
    "    \n",
    "    # Adjust EDP if there are beams extending two bays\n",
    "    if edp.ndim == 3:\n",
    "        edp = edp[:, :, t]\n",
    "        \n",
    "    n_floors, n_piers = edp.shape\n",
    "    n_stories = n_floors - 1\n",
    "    n_bays = n_piers - 1\n",
    "    for i_story in range(n_stories):\n",
    "        for i_bay in range(n_bays):\n",
    "            if (beam_list[i_story, min(i_bay + 1, n_bays - 1)] == 0) and \\\n",
    "                    (column_list[i_story, min(i_bay + 1, n_bays)] == 0) and \\\n",
    "                    (column_list[min(i_story + 1, n_stories - 1), min(i_bay + 1, n_bays)] == 0):\n",
    "                # for double bay beams\n",
    "#                 print(edp[i_story+1, i_bay + 2])\n",
    "                edp[i_story+1, min(i_bay + 1, n_bays)] = edp[i_story+1, i_bay+2] \n",
    "    \n",
    "    # Plot response\n",
    "    plot_building_at_t(t, edp, columns, beams, plot_scale, column_list, beam_list, ax, x_gap=800)\n",
    "    plot_fractures_edp(ax, t, edp, joints_x, joints_y, beam_response, plot_scale=plot_scale, marker_size=marker_size,\n",
    "                      one_fracture_color=color_specs[0], both_fractures_color='k')\n",
    "    plot_column_response_bins_edp(ax, t, edp, joints_x, joints_y, column_response['hinge_bot'], \n",
    "                            column_response['hinge_top'], labelText='$\\\\theta_p$', plot_scale=plot_scale,\n",
    "                           max_marker_size=marker_size, bins=np.array([0, 0.0025, 0.01, 0.02]), edgecolor='grey', \n",
    "                            facecolors='lightgrey', addLegend=False)\n",
    "    plot_column_response_bins_edp(ax, t, edp, joints_x, joints_y, pz_response['pz_rot'],\n",
    "                          np.zeros(pz_response['pz_rot'].shape), d_y=0, max_value=1, \n",
    "                          max_marker_size=marker_size, plot_scale=plot_scale, \n",
    "                          labelText='$\\\\theta_p$', bins=np.array([0, 0.005, 0.01, 0.02]), addLegend=False)\n",
    "    \n",
    "    _ = ax.set_title(title_text, color=title_color)\n",
    "    plt.tight_layout()\n",
    "    plt.show()\n"
   ]
  },
  {
   "cell_type": "code",
   "execution_count": 9,
   "metadata": {
    "scrolled": false
   },
   "outputs": [
    {
     "name": "stdout",
     "output_type": "stream",
     "text": [
      "-------------------------------\n",
      "RETURN PERIOD = 975\n",
      "-------------------------------\n"
     ]
    },
    {
     "data": {
      "image/png": "[encoded data removed]",
      "text/plain": [
       "<Figure size 360x360 with 1 Axes>"
      ]
     },
     "metadata": {
      "needs_background": "light"
     },
     "output_type": "display_data"
    }
   ],
   "source": [
    "# plot frame shape after each return period\n",
    "    \n",
    "# collect EDP file to avoid non-convergence cases\n",
    "edp_filename  = 'EDP_' + bldg_name + '_' + rp_plot +'.csv'\n",
    "results_path  = os.path.join(EDP_folder_name, edp_filename)\n",
    "results_build = pd.read_csv(results_path)\n",
    "endCriteria   = results_build['EndCriteria'].to_numpy()\n",
    "\n",
    "# collect list of gms at this return period\n",
    "with h5py.File(results_filename, 'r') as hf:\n",
    "    gm_ids = list(hf[rp_plot].keys())\n",
    "gm_ids = np.array(gm_ids )\n",
    "    \n",
    "print('-------------------------------')\n",
    "print('RETURN PERIOD = ' + rp_plot)\n",
    "print('-------------------------------')\n",
    "\n",
    "# plot end state of the frame after each gm\n",
    "gm_id = gm_ids[gm_tag]\n",
    "\n",
    "if gm_id in gm_ids:\n",
    "    endCriteria_gm = endCriteria[gm_ids == gm_id][0]        \n",
    "else:\n",
    "    endCriteria_gm = 'not_finished'\n",
    "\n",
    "# Decide if plotting or not according to inputs\n",
    "if only_collapses and endCriteria_gm == 'MaxDrift':\n",
    "    # Plots only collapses\n",
    "    plot_flag = True  \n",
    "elif only_collapses and endCriteria_gm != 'MaxDrift':\n",
    "    plot_flag = False\n",
    "elif ~only_collapses and endCriteria_gm != 'Inconvergence' and endCriteria_gm != 'not_finished':\n",
    "    # Plots all cases that ran well\n",
    "    plot_flag = True \n",
    "else:            \n",
    "    plot_flag = False    \n",
    "        \n",
    "\n",
    "# Collect data and plot end state of the frame\n",
    "if plot_flag:                        \n",
    "\n",
    "    pz_response = {}\n",
    "    column_response = {}\n",
    "    beam_response = {}\n",
    "\n",
    "    # collect results\n",
    "    with h5py.File(results_filename, 'r') as hf:\n",
    "        key = 'all_disp'\n",
    "        pz_response[key] = hf[rp_plot][gm_id][key][()]\n",
    "        key = 'pz_rot'\n",
    "        pz_response['pz_rot'] = hf[rp_plot][gm_id][key][()]\n",
    "\n",
    "        key = 'hinge_bot'\n",
    "        column_response['hinge_bot'] = hf[rp_plot][gm_id][key][()]\n",
    "        key = 'hinge_top'\n",
    "        column_response['hinge_top'] = hf[rp_plot][gm_id][key][()]\n",
    "\n",
    "        key = 'frac_LB'\n",
    "        beam_response['frac_LB'] = hf[rp_plot][gm_id][key][()]\n",
    "        key = 'frac_LT'\n",
    "        beam_response['frac_LT'] = hf[rp_plot][gm_id][key][()]\n",
    "        key = 'frac_RB'\n",
    "        beam_response['frac_RB'] = hf[rp_plot][gm_id][key][()]\n",
    "        key = 'frac_RT'\n",
    "        beam_response['frac_RT'] = hf[rp_plot][gm_id][key][()]\n",
    "\n",
    "    # plot frame\n",
    "    fig, ax = plt.subplots(1, 1, figsize=(5,5))\n",
    "\n",
    "    if endCriteria_gm == 'MaxDrift':\n",
    "        title_text = 'COLLAPSE: RP = ' + str(rp_plot) + 'yrs:\\nGM = ' + gm_id\n",
    "        title_color = 'r'\n",
    "    else:\n",
    "        title_text = 'RP = ' + str(rp_plot) + 'yrs: GM = ' + gm_id\n",
    "        title_color = 'k'\n",
    "\n",
    "    plot_end_state(column_response, pz_response, beam_response, title_text, title_color)\n",
    "    \n",
    "    _ = fig.savefig('3_Output_figures/Elevation_'+'_RP'+rp_plot+'_GM'+str(gm_tag)+'.png', transparent=True) \n",
    "    \n",
    "else:\n",
    "    print('THIS GROUND MOTION DID NOT COLLAPSE')"
   ]
  },
  {
   "cell_type": "markdown",
   "metadata": {},
   "source": [
    "## Plot response in height"
   ]
  },
  {
   "cell_type": "code",
   "execution_count": 10,
   "metadata": {},
   "outputs": [],
   "source": [
    "############ INPUTS ################\n",
    "EDPperStory = 'PID' # PID PFA\n",
    "g = 386\n",
    "edp_limits = [0, 0.05]\n",
    "rid_max    = 0.05\n",
    "cases_to_plot = 'nonCollapse' # nonCollapse MaxDrift Inconvergence  \n",
    "####################################"
   ]
  },
  {
   "cell_type": "code",
   "execution_count": 15,
   "metadata": {},
   "outputs": [],
   "source": [
    "with h5py.File(results_filename, 'r') as hf:\n",
    "    rp_list = list(hf.keys())\n",
    "    \n",
    "# load results per stripe\n",
    "results = {}\n",
    "for rp in rp_list:    \n",
    "    try:\n",
    "        filename = 'EDP_' + bldg_name + '_' + str(rp) +'.csv'\n",
    "        results_path = os.path.join(EDP_folder_name, filename)\n",
    "        results[rp] = pd.read_csv(results_path)\n",
    "    except:\n",
    "        print('Skip rp=' + rp)"
   ]
  },
  {
   "cell_type": "code",
   "execution_count": 16,
   "metadata": {},
   "outputs": [
    {
     "data": {
      "text/plain": [
       "array([0.03475654, 0.03222061, 0.0265447 , 0.01718615, 0.01121305,\n",
       "       0.00782315, 0.00639559, 0.00500119, 0.00490876, 0.0050873 ,\n",
       "       0.00523347, 0.00585232, 0.00723441, 0.0075704 , 0.00664541,\n",
       "       0.00523899, 0.00311877, 0.00311877])"
      ]
     },
     "execution_count": 16,
     "metadata": {},
     "output_type": "execute_result"
    },
    {
     "data": {
      "image/png": "[encoded data removed]",
      "text/plain": [
       "<Figure size 720x360 with 2 Axes>"
      ]
     },
     "metadata": {
      "needs_background": "light"
     },
     "output_type": "display_data"
    }
   ],
   "source": [
    "fig, ax_list = plt.subplots(1,2, figsize=(10,5)) \n",
    "\n",
    "# Read results\n",
    "res = results[rp_plot]\n",
    "endCriteria = res['EndCriteria'].to_numpy()\n",
    "n_records, _ = res.shape\n",
    "\n",
    "######## Plot requested EDP per story ########\n",
    "dir_i = 1\n",
    "color_stats = 'tab:blue'\n",
    "\n",
    "# Get index for floor response\n",
    "idx = []\n",
    "for i in range(len(res.columns)):\n",
    "    idx.append((EDPperStory in res.columns[i]) and (res.columns[i][-1] == str(dir_i)))\n",
    "\n",
    "# Read response per record\n",
    "edp2plot = []\n",
    "res_np = res.to_numpy()\n",
    "for record_i in range(n_records):\n",
    "    if endCriteria[record_i] == cases_to_plot: #nonCollapse MaxDrift Inconvergence            \n",
    "        if EDPperStory == 'PFA':\n",
    "            aux = res_np[record_i,idx]/g\n",
    "        else:\n",
    "            aux = res_np[record_i,idx]\n",
    "        edp2plot.append(aux)                    \n",
    "\n",
    "# Figure\n",
    "ax = ax_list[dir_i-1]          \n",
    "title_text = bldg_name + ' |  RP=' + rp + ' years'#'CVN='+str(cvn_list[case_i])+'ft-lb, $a_0='+str(a0_list[case_i])+'t_f$\\nTr = '+str(rp_list[rp_i])+'yrs'+' Dir '+str(Dir)        \n",
    "\n",
    "if edp2plot == []:\n",
    "    print('All ground motions collapsed')\n",
    "else:\n",
    "    plot_response_in_height(EDPperStory, edp2plot, title_text, edp_limits, ax, color_record='grey', color_stats=color_stats)\n",
    "\n",
    "######## Plot RIDmax for direction X and Y ########\n",
    "ax = ax_list[-1]\n",
    "\n",
    "# Initialize figure   \n",
    "\n",
    "# Initialize variables for plotting\n",
    "edp2plot = []\n",
    "\n",
    "# Read results\n",
    "res = results[rp]\n",
    "endCriteria = res['EndCriteria'].to_numpy()\n",
    "\n",
    "# Get index for floor response\n",
    "idx = []\n",
    "for i in range(len(res.columns)):\n",
    "    idx.append(('RID' in res.columns[i]) and ('1' == res.columns[i][-1]))\n",
    "n_stories = sum(idx)\n",
    "\n",
    "# Get peak interstory drift profile per GM that qualifies for plotting          \n",
    "n_records, _ = res.shape \n",
    "res_np = res.to_numpy()\n",
    "\n",
    "for record_i in range(n_records):\n",
    "\n",
    "    plot_record = False\n",
    "    if endCriteria[record_i] == 'nonCollapse':\n",
    "        plot_record = True\n",
    "\n",
    "    if plot_record == True:\n",
    "        edp2plot.append(res_np[record_i,idx])\n",
    "\n",
    "edp2plot = np.array(edp2plot).flatten()\n",
    "\n",
    "# Figure                    \n",
    "if edp2plot.size == 0:\n",
    "    print('No ground motions to plot')\n",
    "else:                     \n",
    "    color_name = 'tab:blue'\n",
    "\n",
    "    x = np.sort(edp2plot)\n",
    "    n = x.size\n",
    "    y = np.arange(1, n+1) / n\n",
    "    _ = ax.plot(x, y, linewidth=2, color=color_name, alpha=1)            \n",
    "    _ = ax.set_xlabel('RID [mm/mm]')\n",
    "    _ = ax.set_ylabel('P[RID < rid]')\n",
    "    _ = ax.set_ylim([0, 1])\n",
    "    _ = ax.set_xlim([0, rid_max])\n",
    "\n",
    "_ = ax.grid(which='both', alpha=0.2)        \n",
    "\n",
    "_ = plt.tight_layout()    \n",
    "_ = plt.show()\n",
    "_ = fig.savefig('3_Output_figures/PID_RID_'+'_RP'+rp+'.png', transparent=True) "
   ]
  },
  {
   "cell_type": "markdown",
   "metadata": {},
   "source": [
    "## PID distribution of collapsed cases to higlighting critical stories"
   ]
  },
  {
   "cell_type": "code",
   "execution_count": 17,
   "metadata": {},
   "outputs": [],
   "source": [
    "############ INPUTS ################\n",
    "endCriteriaToPlot = 'MaxDrift' # All nonCollapse MaxDrift Inconvergence\n",
    "EDP = 'PID' # 'PID' 'PFA'\n",
    "edp_limits = [0, 0.05] #999 [0, 0.12] [0, 0.5]\n",
    "critical_EDP = 0.05\n",
    "####################################"
   ]
  },
  {
   "cell_type": "code",
   "execution_count": 18,
   "metadata": {},
   "outputs": [
    {
     "name": "stdout",
     "output_type": "stream",
     "text": [
      "Plot  PID  for records that ended as: MaxDrift\n",
      "Plot  PID  for the return periods: \n"
     ]
    },
    {
     "data": {
      "text/plain": [
       "array([0.05571816, 0.05130322, 0.04232376, 0.02183416, 0.01210767,\n",
       "       0.00768356, 0.00584213, 0.00447723, 0.00435266, 0.00447671,\n",
       "       0.00461643, 0.00501949, 0.00606157, 0.00623677, 0.00548273,\n",
       "       0.00435901, 0.00259915, 0.00259915])"
      ]
     },
     "execution_count": 18,
     "metadata": {},
     "output_type": "execute_result"
    },
    {
     "data": {
      "image/png": "[encoded data removed]",
      "text/plain": [
       "<Figure size 720x360 with 2 Axes>"
      ]
     },
     "metadata": {
      "needs_background": "light"
     },
     "output_type": "display_data"
    }
   ],
   "source": [
    "print('Plot ', EDP, ' for records that ended as: ' + endCriteriaToPlot)\n",
    "print('Plot ', EDP, ' for the return periods: ')\n",
    "\n",
    "# Initialize figure\n",
    "fig, ax_list = plt.subplots(1,2, figsize=(10,5)) \n",
    "title_text = bldg_name + ' - Return period ' + rp_plot + 'years'\n",
    "\n",
    "# Initialize variables for plotting\n",
    "edp2plot = []\n",
    "\n",
    "# Read results\n",
    "res = results[rp_plot]\n",
    "endCriteria = res['EndCriteria'].to_numpy()            \n",
    "\n",
    "# Get index for floor response\n",
    "idx = []\n",
    "for i in range(len(res.columns)):\n",
    "    idx.append((EDP in res.columns[i]) and ('1' == res.columns[i][-1]))\n",
    "n_stories = sum(idx)\n",
    "\n",
    "# Get EDP profile per GM that qualifies for plotting          \n",
    "n_records, _ = res.shape \n",
    "res_np = res.to_numpy()\n",
    "\n",
    "for record_i in range(n_records):\n",
    "\n",
    "    plot_record = False\n",
    "    if endCriteria[record_i] == endCriteriaToPlot: #nonCollapse MaxDrift Inconvergence\n",
    "        plot_record = True\n",
    "    elif endCriteriaToPlot == 'All':\n",
    "        plot_record = True\n",
    "\n",
    "    if plot_record == True:\n",
    "        if EDP == 'PFA':\n",
    "            unit_factor = 386 # from in/s2 to g\n",
    "        else:\n",
    "            unit_factor = 1\n",
    "        edp2plot.append(res_np[record_i,idx]/unit_factor)                    \n",
    "\n",
    "# Count GMs with EDP > critical_EDP per story\n",
    "edp_exceed_critical = np.zeros(n_stories)\n",
    "for record_i in range(len(edp2plot)):\n",
    "    PID_dist = edp2plot[record_i]\n",
    "    for story_i in range(n_stories):                \n",
    "        if PID_dist[story_i] > critical_EDP:\n",
    "            edp_exceed_critical[story_i] += 1\n",
    "\n",
    "# Normalize count\n",
    "edp_exceed_critical = edp_exceed_critical/len(edp2plot)       \n",
    "\n",
    "# Figure                    \n",
    "if edp2plot == []:\n",
    "    print('No ground motions to plot')\n",
    "else:\n",
    "    # Plot distribution of EDP with stories\n",
    "    ax = ax_list[0]\n",
    "    plot_response_in_height(EDP, edp2plot, title_text, edp_limits, ax, add_stats=False, color_record='tab:blue', color_stats='tab:blue')\n",
    "    _ = ax.grid(which='both', alpha=0.3)\n",
    "    _ = ax.set_axisbelow(True)\n",
    "\n",
    "    # Plot bar chart to identify critical stories\n",
    "    ax = ax_list[1]\n",
    "    n_story_list = np.linspace(1,n_stories,n_stories)\n",
    "        # plot only during Y to ensure X bars end in front\n",
    "        # divide frequency by two since plot stacks X and Y directions, so counts twice each RHA\n",
    "    _ = ax.barh(n_story_list, edp_exceed_critical, color='tab:blue', edgecolor='black')                            \n",
    "    _ = ax.set_ylim([0.5, n_stories+0.5])   \n",
    "    _ = ax.set_xlim([0, 1])   \n",
    "    _ = ax.set_xlabel('Fraction of RHA with '+EDP+'>'+str(critical_EDP) + '\\nTotal RHAs = '+str(len(edp2plot)))\n",
    "    _ = ax.grid(which='both', alpha=0.3)\n",
    "    _ = ax.set_axisbelow(True)\n",
    "\n",
    "_ = plt.tight_layout()\n",
    "_ = plt.show()\n",
    "_   = fig.savefig('3_Output_figures/CollapseModeSummary.png', transparent=True) "
   ]
  },
  {
   "cell_type": "markdown",
   "metadata": {},
   "source": [
    "## Collapse fragility"
   ]
  },
  {
   "cell_type": "code",
   "execution_count": 19,
   "metadata": {},
   "outputs": [],
   "source": [
    "############ INPUTS ################\n",
    "convergenceIsCol = True\n",
    "####################################"
   ]
  },
  {
   "cell_type": "markdown",
   "metadata": {},
   "source": [
    "Compute collapse fractions"
   ]
  },
  {
   "cell_type": "code",
   "execution_count": 20,
   "metadata": {},
   "outputs": [
    {
     "data": {
      "text/plain": [
       "array([0.        , 0.04285714, 0.72857143, 0.27142857, 0.        ,\n",
       "       0.48571429])"
      ]
     },
     "execution_count": 20,
     "metadata": {},
     "output_type": "execute_result"
    },
    {
     "data": {
      "text/plain": [
       "[0.0, 0.0, 0.0, 0.0, 0.0, 0.0]"
      ]
     },
     "execution_count": 20,
     "metadata": {},
     "output_type": "execute_result"
    }
   ],
   "source": [
    "# compute collapse fraction considering both direction\n",
    "pc  = np.zeros(len(rp_list))    \n",
    "n_collapses_rp  = np.zeros(len(rp_list))    \n",
    "n_gms_rp  = np.zeros(len(rp_list)) \n",
    "n_inconv_rp = np.zeros(len(rp_list)) \n",
    "pincon  = []\n",
    "\n",
    "for rp in rp_list:\n",
    "    rp_i = np.argwhere(np.array(rp_list) == rp)[0][0]\n",
    "\n",
    "    # Get RSN for each ground motion\n",
    "    record_names = results[rp]['Unnamed: 0'].to_numpy()\n",
    "#         record_names\n",
    "    rsn = []\n",
    "    for i in range(len(record_names)):\n",
    "        rsn.append(record_names[i].split('_')[0])\n",
    "    rsn = np.array(rsn)    \n",
    "\n",
    "    # Get the end criteria for corresponding components\n",
    "    endCriteria = results[rp]['EndCriteria'].to_numpy()\n",
    "\n",
    "    # Compute collapse fractions\n",
    "    if convergenceIsCol:\n",
    "        # Considering non-convergence as collapse\n",
    "        nonCollapse = endCriteria == 'nonCollapse'\n",
    "\n",
    "        pc[rp_i] = (len(nonCollapse) - sum(nonCollapse))/len(nonCollapse)\n",
    "        n_collapses_rp[rp_i] = len(nonCollapse) - sum(nonCollapse)\n",
    "        n_gms_rp[rp_i] = len(nonCollapse)\n",
    "\n",
    "        inconv_num = 0\n",
    "        for i in range(len(endCriteria)):\n",
    "            if endCriteria[i] == 'Inconvergence':\n",
    "                inconv_num += 1\n",
    "        n_inconv_rp[rp_i] = inconv_num\n",
    "\n",
    "        inconvergence = endCriteria == 'Inconvergence'\n",
    "        pincon.append(sum(inconvergence)/len(inconvergence))                      \n",
    "\n",
    "    else:\n",
    "        col_num    = 0         \n",
    "        total_num  = 0   \n",
    "        inconv_num = 0\n",
    "        for i in range(len(endCriteria)):\n",
    "            if endCriteria[i] != 'Inconvergence':\n",
    "                total_num += 1\n",
    "                if endCriteria[i] == 'MaxDrift':\n",
    "                    col_num += 1\n",
    "            else:\n",
    "                inconv_num += 1\n",
    "\n",
    "        pc[rp_i] = col_num/total_num\n",
    "        n_collapses_rp[rp_i] = col_num\n",
    "        n_gms_rp[rp_i] = total_num\n",
    "        n_inconv_rp[rp_i] = inconv_num\n",
    "\n",
    "Pc      = pc\n",
    "n_collapses = n_collapses_rp\n",
    "n_gms   = n_gms_rp\n",
    "n_inconv = n_inconv_rp\n",
    "\n",
    "if convergenceIsCol:\n",
    "    Pincon   = pincon\n",
    "\n",
    "Pc\n",
    "Pincon"
   ]
  },
  {
   "cell_type": "markdown",
   "metadata": {},
   "source": [
    "Compute collapse fragility"
   ]
  },
  {
   "cell_type": "code",
   "execution_count": 21,
   "metadata": {},
   "outputs": [
    {
     "name": "stdout",
     "output_type": "stream",
     "text": [
      "Addition uncertainty for collapse fragility = 0.45\n"
     ]
    }
   ],
   "source": [
    "# Uncertainty for collapse fragility (from FEMA P695)\n",
    "betaDR  = 0.35 # uncertainty in design requierements \n",
    "betaTD  = 0.20 # uncertainty in test results\n",
    "betaMDL = 0.20 # uncertainty in robustness of models\n",
    "betaADD = np.sqrt(betaDR**2 + betaTD**2 + betaMDL**2)\n",
    "print('Addition uncertainty for collapse fragility = ' + str(betaADD))"
   ]
  },
  {
   "cell_type": "code",
   "execution_count": 22,
   "metadata": {},
   "outputs": [
    {
     "data": {
      "image/png": "[encoded data removed]",
      "text/plain": [
       "<Figure size 720x360 with 1 Axes>"
      ]
     },
     "metadata": {
      "needs_background": "light"
     },
     "output_type": "display_data"
    }
   ],
   "source": [
    "plot = False\n",
    "\n",
    "title_text = 'MSA collapse fragilities'\n",
    "fig, ax = plt.subplots(1,1, figsize=(10,5))     \n",
    "y = np.linspace(0.001, 1, num=100)\n",
    "\n",
    "collapse_metrics = {}\n",
    "\n",
    "# Identify building name\n",
    "# Get Sa(Tcond) for this building\n",
    "stripe_values = []\n",
    "for rp in rp_list:\n",
    "    stripe_values.append(bldg_info['SaT_' + rp].iloc[case_i])\n",
    "\n",
    "# Ger MCEr IM for this buiding\n",
    "Sa_MCEr = bldg_info['Sa_MCEr'].iloc[case_i]\n",
    "\n",
    "# pair return periods with results and the corresponding stripe IM value \n",
    "stripe_values_curr = []\n",
    "pc_curr = []\n",
    "for rp in rp_list:\n",
    "    rp_i = np.argwhere(np.array(rp_list) == rp)[0][0]\n",
    "    stripe_values_curr.append(stripe_values[rp_i])\n",
    "    pc_curr.append(Pc[rp_i])    \n",
    "stripe_values_curr = np.array(stripe_values_curr)\n",
    "pc_curr = np.array(pc_curr)\n",
    "\n",
    "# Compute and plot collapse fragility\n",
    "mu, beta = compute_msa_fragility(pc_curr, stripe_values_curr, plot)\n",
    "\n",
    "# inflate beta to account for additional uncertainty\n",
    "if beta > 0.1: # small beta means not enough stripes in high intensities, so leave as is\n",
    "    beta_adjusted = np.sqrt(beta**2 + betaDR**2 + betaTD**2 + betaMDL**2)\n",
    "else:\n",
    "    beta_adjusted = beta\n",
    "\n",
    "x = stats.lognorm(beta, scale=mu).ppf(y)\n",
    "_ = ax.plot(x/Sa_MCEr, y) # color=color_specs[case_i]\n",
    "\n",
    "_ = plt.scatter(stripe_values_curr/Sa_MCEr, pc_curr) # edgecolor=color_specs[case_i], facecolor='none'\n",
    "\n",
    "collapse_metrics['median'] = mu\n",
    "collapse_metrics['beta'] = beta\n",
    "collapse_metrics['beta_adjusted'] = beta_adjusted\n",
    "\n",
    "_ = ax.grid(which='both', alpha=0.2)\n",
    "_ = ax.set_xlim([0, 2])\n",
    "_ = ax.set_ylim([0, 1])\n",
    "_ = ax.set_xlabel(r'$Sa(T_{cond})/Sa(T_{cond})^{MCEr}$')\n",
    "_ = ax.set_ylabel(r'P[collapse| $Sa(T_{cond}$)]')\n",
    "_ = ax.set_title(title_text, loc='right')\n",
    "\n",
    "# Add MCEr and DBE intensities\n",
    "_ = ax.plot([Sa_MCEr/Sa_MCEr, Sa_MCEr/Sa_MCEr], [0, 1], '--', color='grey')\n",
    "_ = ax.text(Sa_MCEr/Sa_MCEr+0.008, 0.1,'$MCEr$', rotation=90, fontsize=16, color='grey')\n",
    "\n",
    "plt.tight_layout()\n",
    "_ = plt.show()\n",
    "_ = fig.savefig('3_Output_figures/CollapseFragility.png', transparent=True) "
   ]
  },
  {
   "cell_type": "code",
   "execution_count": null,
   "metadata": {},
   "outputs": [],
   "source": []
  }
 ],
 "metadata": {
  "kernelspec": {
   "display_name": "Python 3",
   "language": "python",
   "name": "python3"
  },
  "language_info": {
   "codemirror_mode": {
    "name": "ipython",
    "version": 3
   },
   "file_extension": ".py",
   "mimetype": "text/x-python",
   "name": "python",
   "nbconvert_exporter": "python",
   "pygments_lexer": "ipython3",
   "version": "3.8.8"
  }
 },
 "nbformat": 4,
 "nbformat_minor": 2
}
